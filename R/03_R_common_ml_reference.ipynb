{
 "cells": [
  {
   "cell_type": "markdown",
   "metadata": {},
   "source": [
    "## Common Machine Learning Techniques with R\n",
    "### Note - The purpose of this notebook is a quick reference for implementation and will very little EDA.\n",
    "Source: This is a showcase/reference of projects completed during the Udemy course by Jose Portilla listed below </br>\n",
    "https://www.udemy.com/share/1013iKCEISeFtaQ3g=/"
   ]
  },
  {
   "cell_type": "markdown",
   "metadata": {},
   "source": [
    "## Linear Regression "
   ]
  },
  {
   "cell_type": "code",
   "execution_count": 65,
   "metadata": {},
   "outputs": [
    {
     "name": "stderr",
     "output_type": "stream",
     "text": [
      "Warning message:\n",
      "\"package 'ggplot2' was built under R version 3.6.3\"\n"
     ]
    }
   ],
   "source": [
    "library('car')\n",
    "library('ggplot2')"
   ]
  },
  {
   "cell_type": "code",
   "execution_count": 1,
   "metadata": {},
   "outputs": [],
   "source": [
    "bike <- read.csv('data//bikeshare.csv')"
   ]
  },
  {
   "cell_type": "code",
   "execution_count": 2,
   "metadata": {},
   "outputs": [
    {
     "data": {
      "text/html": [
       "<table>\n",
       "<caption>A data.frame: 3 × 12</caption>\n",
       "<thead>\n",
       "\t<tr><th></th><th scope=col>datetime</th><th scope=col>season</th><th scope=col>holiday</th><th scope=col>workingday</th><th scope=col>weather</th><th scope=col>temp</th><th scope=col>atemp</th><th scope=col>humidity</th><th scope=col>windspeed</th><th scope=col>casual</th><th scope=col>registered</th><th scope=col>count</th></tr>\n",
       "\t<tr><th></th><th scope=col>&lt;fct&gt;</th><th scope=col>&lt;int&gt;</th><th scope=col>&lt;int&gt;</th><th scope=col>&lt;int&gt;</th><th scope=col>&lt;int&gt;</th><th scope=col>&lt;dbl&gt;</th><th scope=col>&lt;dbl&gt;</th><th scope=col>&lt;int&gt;</th><th scope=col>&lt;dbl&gt;</th><th scope=col>&lt;int&gt;</th><th scope=col>&lt;int&gt;</th><th scope=col>&lt;int&gt;</th></tr>\n",
       "</thead>\n",
       "<tbody>\n",
       "\t<tr><th scope=row>1</th><td>2011-01-01 00:00:00</td><td>1</td><td>0</td><td>0</td><td>1</td><td>9.84</td><td>14.395</td><td>81</td><td>0</td><td>3</td><td>13</td><td>16</td></tr>\n",
       "\t<tr><th scope=row>2</th><td>2011-01-01 01:00:00</td><td>1</td><td>0</td><td>0</td><td>1</td><td>9.02</td><td>13.635</td><td>80</td><td>0</td><td>8</td><td>32</td><td>40</td></tr>\n",
       "\t<tr><th scope=row>3</th><td>2011-01-01 02:00:00</td><td>1</td><td>0</td><td>0</td><td>1</td><td>9.02</td><td>13.635</td><td>80</td><td>0</td><td>5</td><td>27</td><td>32</td></tr>\n",
       "</tbody>\n",
       "</table>\n"
      ],
      "text/latex": [
       "A data.frame: 3 × 12\n",
       "\\begin{tabular}{r|llllllllllll}\n",
       "  & datetime & season & holiday & workingday & weather & temp & atemp & humidity & windspeed & casual & registered & count\\\\\n",
       "  & <fct> & <int> & <int> & <int> & <int> & <dbl> & <dbl> & <int> & <dbl> & <int> & <int> & <int>\\\\\n",
       "\\hline\n",
       "\t1 & 2011-01-01 00:00:00 & 1 & 0 & 0 & 1 & 9.84 & 14.395 & 81 & 0 & 3 & 13 & 16\\\\\n",
       "\t2 & 2011-01-01 01:00:00 & 1 & 0 & 0 & 1 & 9.02 & 13.635 & 80 & 0 & 8 & 32 & 40\\\\\n",
       "\t3 & 2011-01-01 02:00:00 & 1 & 0 & 0 & 1 & 9.02 & 13.635 & 80 & 0 & 5 & 27 & 32\\\\\n",
       "\\end{tabular}\n"
      ],
      "text/markdown": [
       "\n",
       "A data.frame: 3 × 12\n",
       "\n",
       "| <!--/--> | datetime &lt;fct&gt; | season &lt;int&gt; | holiday &lt;int&gt; | workingday &lt;int&gt; | weather &lt;int&gt; | temp &lt;dbl&gt; | atemp &lt;dbl&gt; | humidity &lt;int&gt; | windspeed &lt;dbl&gt; | casual &lt;int&gt; | registered &lt;int&gt; | count &lt;int&gt; |\n",
       "|---|---|---|---|---|---|---|---|---|---|---|---|---|\n",
       "| 1 | 2011-01-01 00:00:00 | 1 | 0 | 0 | 1 | 9.84 | 14.395 | 81 | 0 | 3 | 13 | 16 |\n",
       "| 2 | 2011-01-01 01:00:00 | 1 | 0 | 0 | 1 | 9.02 | 13.635 | 80 | 0 | 8 | 32 | 40 |\n",
       "| 3 | 2011-01-01 02:00:00 | 1 | 0 | 0 | 1 | 9.02 | 13.635 | 80 | 0 | 5 | 27 | 32 |\n",
       "\n"
      ],
      "text/plain": [
       "  datetime            season holiday workingday weather temp atemp  humidity\n",
       "1 2011-01-01 00:00:00 1      0       0          1       9.84 14.395 81      \n",
       "2 2011-01-01 01:00:00 1      0       0          1       9.02 13.635 80      \n",
       "3 2011-01-01 02:00:00 1      0       0          1       9.02 13.635 80      \n",
       "  windspeed casual registered count\n",
       "1 0         3      13         16   \n",
       "2 0         8      32         40   \n",
       "3 0         5      27         32   "
      ]
     },
     "metadata": {},
     "output_type": "display_data"
    }
   ],
   "source": [
    "# This dataset considers the various factors for someone choosing to rent a bike with count (number of bikes rented) \n",
    "# as the response variable\n",
    "head(bike, 3)"
   ]
  },
  {
   "cell_type": "code",
   "execution_count": 3,
   "metadata": {},
   "outputs": [],
   "source": [
    "# Converting the datetime column to a datetime variable\n",
    "bike$datetime <- as.POSIXct(bike$datetime)"
   ]
  },
  {
   "cell_type": "code",
   "execution_count": 4,
   "metadata": {},
   "outputs": [
    {
     "data": {
      "text/html": [
       "<table>\n",
       "<caption>A matrix: 2 × 2 of type dbl</caption>\n",
       "<thead>\n",
       "\t<tr><th></th><th scope=col>temp</th><th scope=col>count</th></tr>\n",
       "</thead>\n",
       "<tbody>\n",
       "\t<tr><th scope=row>temp</th><td>1.0000000</td><td>0.3944536</td></tr>\n",
       "\t<tr><th scope=row>count</th><td>0.3944536</td><td>1.0000000</td></tr>\n",
       "</tbody>\n",
       "</table>\n"
      ],
      "text/latex": [
       "A matrix: 2 × 2 of type dbl\n",
       "\\begin{tabular}{r|ll}\n",
       "  & temp & count\\\\\n",
       "\\hline\n",
       "\ttemp & 1.0000000 & 0.3944536\\\\\n",
       "\tcount & 0.3944536 & 1.0000000\\\\\n",
       "\\end{tabular}\n"
      ],
      "text/markdown": [
       "\n",
       "A matrix: 2 × 2 of type dbl\n",
       "\n",
       "| <!--/--> | temp | count |\n",
       "|---|---|---|\n",
       "| temp | 1.0000000 | 0.3944536 |\n",
       "| count | 0.3944536 | 1.0000000 |\n",
       "\n"
      ],
      "text/plain": [
       "      temp      count    \n",
       "temp  1.0000000 0.3944536\n",
       "count 0.3944536 1.0000000"
      ]
     },
     "metadata": {},
     "output_type": "display_data"
    }
   ],
   "source": [
    "# Badass correlation\n",
    "cor(bike[, c('temp','count')])"
   ]
  },
  {
   "cell_type": "code",
   "execution_count": 5,
   "metadata": {},
   "outputs": [],
   "source": [
    "# Creating an hour variable for time\n",
    "bike$hour <- sapply(bike$datetime,function(x){format(x,\"%H\")})"
   ]
  },
  {
   "cell_type": "code",
   "execution_count": 7,
   "metadata": {},
   "outputs": [
    {
     "data": {
      "text/plain": [
       "\n",
       "Call:\n",
       "lm(formula = count ~ temp, data = bike)\n",
       "\n",
       "Residuals:\n",
       "    Min      1Q  Median      3Q     Max \n",
       "-293.32 -112.36  -33.36   78.98  741.44 \n",
       "\n",
       "Coefficients:\n",
       "            Estimate Std. Error t value Pr(>|t|)    \n",
       "(Intercept)   6.0462     4.4394   1.362    0.173    \n",
       "temp          9.1705     0.2048  44.783   <2e-16 ***\n",
       "---\n",
       "Signif. codes:  0 '***' 0.001 '**' 0.01 '*' 0.05 '.' 0.1 ' ' 1\n",
       "\n",
       "Residual standard error: 166.5 on 10884 degrees of freedom\n",
       "Multiple R-squared:  0.1556,\tAdjusted R-squared:  0.1555 \n",
       "F-statistic:  2006 on 1 and 10884 DF,  p-value: < 2.2e-16\n"
      ]
     },
     "metadata": {},
     "output_type": "display_data"
    }
   ],
   "source": [
    "# building the base model (only count and temperature)\n",
    "temp.model <- lm(count ~ temp, data = bike)\n",
    "summary(temp.model)"
   ]
  },
  {
   "cell_type": "code",
   "execution_count": 8,
   "metadata": {},
   "outputs": [
    {
     "data": {
      "text/html": [
       "<table>\n",
       "<caption>A matrix: 1 × 3 of type dbl</caption>\n",
       "<thead>\n",
       "\t<tr><th></th><th scope=col>fit</th><th scope=col>lwr</th><th scope=col>upr</th></tr>\n",
       "</thead>\n",
       "<tbody>\n",
       "\t<tr><th scope=row>1</th><td>235.3097</td><td>231.6429</td><td>238.9765</td></tr>\n",
       "</tbody>\n",
       "</table>\n"
      ],
      "text/latex": [
       "A matrix: 1 × 3 of type dbl\n",
       "\\begin{tabular}{r|lll}\n",
       "  & fit & lwr & upr\\\\\n",
       "\\hline\n",
       "\t1 & 235.3097 & 231.6429 & 238.9765\\\\\n",
       "\\end{tabular}\n"
      ],
      "text/markdown": [
       "\n",
       "A matrix: 1 × 3 of type dbl\n",
       "\n",
       "| <!--/--> | fit | lwr | upr |\n",
       "|---|---|---|---|\n",
       "| 1 | 235.3097 | 231.6429 | 238.9765 |\n",
       "\n"
      ],
      "text/plain": [
       "  fit      lwr      upr     \n",
       "1 235.3097 231.6429 238.9765"
      ]
     },
     "metadata": {},
     "output_type": "display_data"
    }
   ],
   "source": [
    "# Predicting with the current model for a temp of 25\n",
    "temp.test <- data.frame(temp=c(25))\n",
    "predict(temp.model,temp.test,interval='confidence')"
   ]
  },
  {
   "cell_type": "code",
   "execution_count": 9,
   "metadata": {},
   "outputs": [],
   "source": [
    "# Considering all of the features to build the model and converting some to factors\n",
    "temp.model.full <- lm(count ~ temp + factor(season) + holiday + workingday + factor(weather) + \n",
    "                      temp + humidity + windspeed + factor(hour), data = bike)"
   ]
  },
  {
   "cell_type": "code",
   "execution_count": 10,
   "metadata": {},
   "outputs": [
    {
     "data": {
      "text/plain": [
       "\n",
       "Call:\n",
       "lm(formula = count ~ temp + factor(season) + holiday + workingday + \n",
       "    factor(weather) + temp + humidity + windspeed + factor(hour), \n",
       "    data = bike)\n",
       "\n",
       "Residuals:\n",
       "    Min      1Q  Median      3Q     Max \n",
       "-356.78  -60.70   -9.92   50.52  510.17 \n",
       "\n",
       "Coefficients:\n",
       "                  Estimate Std. Error t value Pr(>|t|)    \n",
       "(Intercept)       -22.0757     8.1608  -2.705 0.006840 ** \n",
       "temp                6.6150     0.2427  27.254  < 2e-16 ***\n",
       "factor(season)2    36.5796     3.9204   9.330  < 2e-16 ***\n",
       "factor(season)3    17.2650     5.0127   3.444 0.000575 ***\n",
       "factor(season)4    65.3580     3.2409  20.167  < 2e-16 ***\n",
       "holiday            -7.5590     6.5472  -1.155 0.248303    \n",
       "workingday          1.0284     2.3430   0.439 0.660719    \n",
       "factor(weather)2   -6.3323     2.6037  -2.432 0.015029 *  \n",
       "factor(weather)3  -64.6746     4.3988 -14.703  < 2e-16 ***\n",
       "factor(weather)4 -129.2514   110.2378  -1.172 0.241031    \n",
       "humidity           -0.9539     0.0740 -12.890  < 2e-16 ***\n",
       "windspeed          -0.7735     0.1399  -5.527 3.33e-08 ***\n",
       "factor(hour)01    -16.2254     7.3008  -2.222 0.026277 *  \n",
       "factor(hour)02    -26.4260     7.3277  -3.606 0.000312 ***\n",
       "factor(hour)03    -36.4804     7.3960  -4.932 8.24e-07 ***\n",
       "factor(hour)04    -36.4797     7.3638  -4.954 7.38e-07 ***\n",
       "factor(hour)05    -20.9194     7.3243  -2.856 0.004296 ** \n",
       "factor(hour)06     38.5937     7.3146   5.276 1.34e-07 ***\n",
       "factor(hour)07    172.4983     7.3064  23.609  < 2e-16 ***\n",
       "factor(hour)08    315.0132     7.2995  43.156  < 2e-16 ***\n",
       "factor(hour)09    164.5498     7.3068  22.520  < 2e-16 ***\n",
       "factor(hour)10    107.5455     7.3304  14.671  < 2e-16 ***\n",
       "factor(hour)11    132.1346     7.3715  17.925  < 2e-16 ***\n",
       "factor(hour)12    170.5632     7.4171  22.996  < 2e-16 ***\n",
       "factor(hour)13    164.7232     7.4658  22.064  < 2e-16 ***\n",
       "factor(hour)14    146.9778     7.5031  19.589  < 2e-16 ***\n",
       "factor(hour)15    157.6474     7.5131  20.983  < 2e-16 ***\n",
       "factor(hour)16    220.9651     7.4997  29.463  < 2e-16 ***\n",
       "factor(hour)17    379.2442     7.4676  50.785  < 2e-16 ***\n",
       "factor(hour)18    346.7323     7.4311  46.660  < 2e-16 ***\n",
       "factor(hour)19    237.0180     7.3650  32.182  < 2e-16 ***\n",
       "factor(hour)20    156.4209     7.3323  21.333  < 2e-16 ***\n",
       "factor(hour)21    106.2990     7.3086  14.544  < 2e-16 ***\n",
       "factor(hour)22     71.5025     7.2988   9.796  < 2e-16 ***\n",
       "factor(hour)23     33.0119     7.2946   4.526 6.09e-06 ***\n",
       "---\n",
       "Signif. codes:  0 '***' 0.001 '**' 0.01 '*' 0.05 '.' 0.1 ' ' 1\n",
       "\n",
       "Residual standard error: 110 on 10851 degrees of freedom\n",
       "Multiple R-squared:  0.6321,\tAdjusted R-squared:  0.631 \n",
       "F-statistic: 548.4 on 34 and 10851 DF,  p-value: < 2.2e-16\n"
      ]
     },
     "metadata": {},
     "output_type": "display_data"
    }
   ],
   "source": [
    "# Getting the summary\n",
    "summary(temp.model.full)"
   ]
  },
  {
   "cell_type": "code",
   "execution_count": 14,
   "metadata": {},
   "outputs": [
    {
     "data": {
      "image/png": "[encoded data removed]",
      "text/plain": [
       "Plot with title \"Bike Rental Count\""
      ]
     },
     "metadata": {
      "image/png": {
       "height": 420,
       "width": 420
      },
      "text/plain": {
       "height": 420,
       "width": 420
      }
     },
     "output_type": "display_data"
    }
   ],
   "source": [
    "# Getting residuals\n",
    "residuals <- resid(temp.model.full)\n",
    "\n",
    "# Plotting them\n",
    "plot(bike$count, residuals, ylab=\"Residuals\", xlab=\"Count\", main=\"Bike Rental Count\")\n",
    "abline(0,0)"
   ]
  },
  {
   "cell_type": "code",
   "execution_count": 19,
   "metadata": {},
   "outputs": [
    {
     "data": {
      "text/html": [
       "<style>\n",
       ".list-inline {list-style: none; margin:0; padding: 0}\n",
       ".list-inline>li {display: inline-block}\n",
       ".list-inline>li:not(:last-child)::after {content: \"\\00b7\"; padding: 0 .5ex}\n",
       "</style>\n",
       "<ol class=list-inline><li>9298</li><li>9346</li></ol>\n"
      ],
      "text/latex": [
       "\\begin{enumerate*}\n",
       "\\item 9298\n",
       "\\item 9346\n",
       "\\end{enumerate*}\n"
      ],
      "text/markdown": [
       "1. 9298\n",
       "2. 9346\n",
       "\n",
       "\n"
      ],
      "text/plain": [
       "[1] 9298 9346"
      ]
     },
     "metadata": {},
     "output_type": "display_data"
    },
    {
     "data": {
      "image/png": "[encoded data removed]",
      "text/plain": [
       "Plot with title \"QQ Plot\""
      ]
     },
     "metadata": {
      "image/png": {
       "height": 420,
       "width": 420
      },
      "text/plain": {
       "height": 420,
       "width": 420
      }
     },
     "output_type": "display_data"
    }
   ],
   "source": [
    "# Doing a qq plot to check normality.\n",
    "qqPlot(temp.model.full, main=\"QQ Plot\")"
   ]
  },
  {
   "cell_type": "markdown",
   "metadata": {},
   "source": [
    "## Logistic Regression (w/some feature engineering)"
   ]
  },
  {
   "cell_type": "code",
   "execution_count": 107,
   "metadata": {},
   "outputs": [],
   "source": [
    "adult <- read.csv('data//adult_sal.csv')"
   ]
  },
  {
   "cell_type": "code",
   "execution_count": 108,
   "metadata": {},
   "outputs": [
    {
     "data": {
      "text/html": [
       "<table>\n",
       "<caption>A data.frame: 3 × 16</caption>\n",
       "<thead>\n",
       "\t<tr><th></th><th scope=col>X</th><th scope=col>age</th><th scope=col>type_employer</th><th scope=col>fnlwgt</th><th scope=col>education</th><th scope=col>education_num</th><th scope=col>marital</th><th scope=col>occupation</th><th scope=col>relationship</th><th scope=col>race</th><th scope=col>sex</th><th scope=col>capital_gain</th><th scope=col>capital_loss</th><th scope=col>hr_per_week</th><th scope=col>country</th><th scope=col>income</th></tr>\n",
       "\t<tr><th></th><th scope=col>&lt;int&gt;</th><th scope=col>&lt;int&gt;</th><th scope=col>&lt;fct&gt;</th><th scope=col>&lt;int&gt;</th><th scope=col>&lt;fct&gt;</th><th scope=col>&lt;int&gt;</th><th scope=col>&lt;fct&gt;</th><th scope=col>&lt;fct&gt;</th><th scope=col>&lt;fct&gt;</th><th scope=col>&lt;fct&gt;</th><th scope=col>&lt;fct&gt;</th><th scope=col>&lt;int&gt;</th><th scope=col>&lt;int&gt;</th><th scope=col>&lt;int&gt;</th><th scope=col>&lt;fct&gt;</th><th scope=col>&lt;fct&gt;</th></tr>\n",
       "</thead>\n",
       "<tbody>\n",
       "\t<tr><th scope=row>1</th><td>1</td><td>39</td><td><span style=white-space:pre-wrap>State-gov       </span></td><td> 77516</td><td>Bachelors</td><td>13</td><td><span style=white-space:pre-wrap>Never-married     </span></td><td><span style=white-space:pre-wrap>Adm-clerical     </span></td><td>Not-in-family</td><td>White</td><td>Male</td><td>2174</td><td>0</td><td>40</td><td>United-States</td><td>&lt;=50K</td></tr>\n",
       "\t<tr><th scope=row>2</th><td>2</td><td>50</td><td>Self-emp-not-inc</td><td> 83311</td><td>Bachelors</td><td>13</td><td>Married-civ-spouse</td><td><span style=white-space:pre-wrap>Exec-managerial  </span></td><td><span style=white-space:pre-wrap>Husband      </span></td><td>White</td><td>Male</td><td><span style=white-space:pre-wrap>   0</span></td><td>0</td><td>13</td><td>United-States</td><td>&lt;=50K</td></tr>\n",
       "\t<tr><th scope=row>3</th><td>3</td><td>38</td><td><span style=white-space:pre-wrap>Private         </span></td><td>215646</td><td><span style=white-space:pre-wrap>HS-grad  </span></td><td> 9</td><td><span style=white-space:pre-wrap>Divorced          </span></td><td>Handlers-cleaners</td><td>Not-in-family</td><td>White</td><td>Male</td><td><span style=white-space:pre-wrap>   0</span></td><td>0</td><td>40</td><td>United-States</td><td>&lt;=50K</td></tr>\n",
       "</tbody>\n",
       "</table>\n"
      ],
      "text/latex": [
       "A data.frame: 3 × 16\n",
       "\\begin{tabular}{r|llllllllllllllll}\n",
       "  & X & age & type\\_employer & fnlwgt & education & education\\_num & marital & occupation & relationship & race & sex & capital\\_gain & capital\\_loss & hr\\_per\\_week & country & income\\\\\n",
       "  & <int> & <int> & <fct> & <int> & <fct> & <int> & <fct> & <fct> & <fct> & <fct> & <fct> & <int> & <int> & <int> & <fct> & <fct>\\\\\n",
       "\\hline\n",
       "\t1 & 1 & 39 & State-gov        &  77516 & Bachelors & 13 & Never-married      & Adm-clerical      & Not-in-family & White & Male & 2174 & 0 & 40 & United-States & <=50K\\\\\n",
       "\t2 & 2 & 50 & Self-emp-not-inc &  83311 & Bachelors & 13 & Married-civ-spouse & Exec-managerial   & Husband       & White & Male &    0 & 0 & 13 & United-States & <=50K\\\\\n",
       "\t3 & 3 & 38 & Private          & 215646 & HS-grad   &  9 & Divorced           & Handlers-cleaners & Not-in-family & White & Male &    0 & 0 & 40 & United-States & <=50K\\\\\n",
       "\\end{tabular}\n"
      ],
      "text/markdown": [
       "\n",
       "A data.frame: 3 × 16\n",
       "\n",
       "| <!--/--> | X &lt;int&gt; | age &lt;int&gt; | type_employer &lt;fct&gt; | fnlwgt &lt;int&gt; | education &lt;fct&gt; | education_num &lt;int&gt; | marital &lt;fct&gt; | occupation &lt;fct&gt; | relationship &lt;fct&gt; | race &lt;fct&gt; | sex &lt;fct&gt; | capital_gain &lt;int&gt; | capital_loss &lt;int&gt; | hr_per_week &lt;int&gt; | country &lt;fct&gt; | income &lt;fct&gt; |\n",
       "|---|---|---|---|---|---|---|---|---|---|---|---|---|---|---|---|---|\n",
       "| 1 | 1 | 39 | State-gov        |  77516 | Bachelors | 13 | Never-married      | Adm-clerical      | Not-in-family | White | Male | 2174 | 0 | 40 | United-States | &lt;=50K |\n",
       "| 2 | 2 | 50 | Self-emp-not-inc |  83311 | Bachelors | 13 | Married-civ-spouse | Exec-managerial   | Husband       | White | Male |    0 | 0 | 13 | United-States | &lt;=50K |\n",
       "| 3 | 3 | 38 | Private          | 215646 | HS-grad   |  9 | Divorced           | Handlers-cleaners | Not-in-family | White | Male |    0 | 0 | 40 | United-States | &lt;=50K |\n",
       "\n"
      ],
      "text/plain": [
       "  X age type_employer    fnlwgt education education_num marital           \n",
       "1 1 39  State-gov         77516 Bachelors 13            Never-married     \n",
       "2 2 50  Self-emp-not-inc  83311 Bachelors 13            Married-civ-spouse\n",
       "3 3 38  Private          215646 HS-grad    9            Divorced          \n",
       "  occupation        relationship  race  sex  capital_gain capital_loss\n",
       "1 Adm-clerical      Not-in-family White Male 2174         0           \n",
       "2 Exec-managerial   Husband       White Male    0         0           \n",
       "3 Handlers-cleaners Not-in-family White Male    0         0           \n",
       "  hr_per_week country       income\n",
       "1 40          United-States <=50K \n",
       "2 13          United-States <=50K \n",
       "3 40          United-States <=50K "
      ]
     },
     "metadata": {},
     "output_type": "display_data"
    }
   ],
   "source": [
    "head(adult,3)"
   ]
  },
  {
   "cell_type": "code",
   "execution_count": 109,
   "metadata": {},
   "outputs": [
    {
     "ename": "ERROR",
     "evalue": "Error in select(adult, -X): unused argument (-X)\n",
     "output_type": "error",
     "traceback": [
      "Error in select(adult, -X): unused argument (-X)\nTraceback:\n"
     ]
    }
   ],
   "source": [
    "# dropping the X column\n",
    "library(dplyr)\n",
    "adult <- select(adult,-X)"
   ]
  },
  {
   "cell_type": "code",
   "execution_count": 110,
   "metadata": {},
   "outputs": [
    {
     "data": {
      "text/plain": [
       "\n",
       "               ?      Federal-gov        Local-gov     Never-worked \n",
       "            1836              960             2093                7 \n",
       "         Private     Self-emp-inc Self-emp-not-inc        State-gov \n",
       "           22696             1116             2541             1298 \n",
       "     Without-pay \n",
       "              14 "
      ]
     },
     "metadata": {},
     "output_type": "display_data"
    }
   ],
   "source": [
    "# data cleaning\n",
    "table(adult$type_employer)"
   ]
  },
  {
   "cell_type": "code",
   "execution_count": 111,
   "metadata": {},
   "outputs": [],
   "source": [
    "# Combining never worked and without pay\n",
    "unemp <- function(job){\n",
    "    job <- as.character(job)\n",
    "    if (job=='Never-worked' | job=='Without-pay'){\n",
    "        return('Unemployed')\n",
    "    }else{\n",
    "        return(job)\n",
    "    }\n",
    "}"
   ]
  },
  {
   "cell_type": "code",
   "execution_count": 112,
   "metadata": {},
   "outputs": [],
   "source": [
    "adult$type_employer <- sapply(adult$type_employer,unemp)"
   ]
  },
  {
   "cell_type": "code",
   "execution_count": 113,
   "metadata": {},
   "outputs": [],
   "source": [
    "# Combining job functions\n",
    "unemp2 <- function(job){\n",
    "    job <- as.character(job)\n",
    "    if (job=='State-gov' | job=='Local-gov'){\n",
    "        return('SL-emp')\n",
    "    } else if (job == 'Self-emp-inc' | job == 'Self-emp-not-inc'){\n",
    "        return('self-emp')\n",
    "    }else{\n",
    "        return(job)\n",
    "    }\n",
    "}"
   ]
  },
  {
   "cell_type": "code",
   "execution_count": 114,
   "metadata": {},
   "outputs": [],
   "source": [
    "adult$type_employer <- sapply(adult$type_employer,unemp2)"
   ]
  },
  {
   "cell_type": "code",
   "execution_count": 115,
   "metadata": {},
   "outputs": [],
   "source": [
    "# Combining marital status\n",
    "group_marital <- function(mar){\n",
    "    mar <- as.character(mar)\n",
    "    \n",
    "    # Not-Married\n",
    "    if (mar=='Separated' | mar=='Divorced' | mar=='Widowed'){\n",
    "        return('Not-Married')\n",
    "    \n",
    "    # Never-Married   \n",
    "    }else if(mar=='Never-married'){\n",
    "        return(mar)\n",
    "    \n",
    "     #Married\n",
    "    }else{\n",
    "        return('Married')\n",
    "    }\n",
    "}"
   ]
  },
  {
   "cell_type": "code",
   "execution_count": 116,
   "metadata": {},
   "outputs": [],
   "source": [
    "adult$marital <- sapply(adult$marital,group_marital)"
   ]
  },
  {
   "cell_type": "code",
   "execution_count": 117,
   "metadata": {},
   "outputs": [],
   "source": [
    "# Grouping cournties into regions\n",
    "Asia <- c('China','Hong','India','Iran','Cambodia','Japan', 'Laos' ,\n",
    "          'Philippines' ,'Vietnam' ,'Taiwan', 'Thailand')\n",
    "\n",
    "North.America <- c('Canada','United-States','Puerto-Rico' )\n",
    "\n",
    "Europe <- c('England' ,'France', 'Germany' ,'Greece','Holand-Netherlands','Hungary',\n",
    "            'Ireland','Italy','Poland','Portugal','Scotland','Yugoslavia')\n",
    "\n",
    "Latin.and.South.America <- c('Columbia','Cuba','Dominican-Republic','Ecuador',\n",
    "                             'El-Salvador','Guatemala','Haiti','Honduras',\n",
    "                             'Mexico','Nicaragua','Outlying-US(Guam-USVI-etc)','Peru',\n",
    "                            'Jamaica','Trinadad&Tobago')\n",
    "Other <- c('South')\n",
    "\n",
    "group_country <- function(ctry){\n",
    "    if (ctry %in% Asia){\n",
    "        return('Asia')\n",
    "    }else if (ctry %in% North.America){\n",
    "        return('North.America')\n",
    "    }else if (ctry %in% Europe){\n",
    "        return('Europe')\n",
    "    }else if (ctry %in% Latin.and.South.America){\n",
    "        return('Latin.and.South.America')\n",
    "    }else{\n",
    "        return('Other')      \n",
    "    }\n",
    "}"
   ]
  },
  {
   "cell_type": "code",
   "execution_count": 118,
   "metadata": {},
   "outputs": [],
   "source": [
    "adult$country <- sapply(adult$country,group_country)"
   ]
  },
  {
   "cell_type": "code",
   "execution_count": 119,
   "metadata": {},
   "outputs": [
    {
     "data": {
      "text/html": [
       "<table>\n",
       "<caption>A data.frame: 3 × 16</caption>\n",
       "<thead>\n",
       "\t<tr><th></th><th scope=col>X</th><th scope=col>age</th><th scope=col>type_employer</th><th scope=col>fnlwgt</th><th scope=col>education</th><th scope=col>education_num</th><th scope=col>marital</th><th scope=col>occupation</th><th scope=col>relationship</th><th scope=col>race</th><th scope=col>sex</th><th scope=col>capital_gain</th><th scope=col>capital_loss</th><th scope=col>hr_per_week</th><th scope=col>region</th><th scope=col>income</th></tr>\n",
       "\t<tr><th></th><th scope=col>&lt;int&gt;</th><th scope=col>&lt;int&gt;</th><th scope=col>&lt;chr&gt;</th><th scope=col>&lt;int&gt;</th><th scope=col>&lt;fct&gt;</th><th scope=col>&lt;int&gt;</th><th scope=col>&lt;chr&gt;</th><th scope=col>&lt;fct&gt;</th><th scope=col>&lt;fct&gt;</th><th scope=col>&lt;fct&gt;</th><th scope=col>&lt;fct&gt;</th><th scope=col>&lt;int&gt;</th><th scope=col>&lt;int&gt;</th><th scope=col>&lt;int&gt;</th><th scope=col>&lt;chr&gt;</th><th scope=col>&lt;fct&gt;</th></tr>\n",
       "</thead>\n",
       "<tbody>\n",
       "\t<tr><th scope=row>1</th><td>1</td><td>39</td><td><span style=white-space:pre-wrap>SL-emp  </span></td><td> 77516</td><td>Bachelors</td><td>13</td><td>Never-married</td><td><span style=white-space:pre-wrap>Adm-clerical     </span></td><td>Not-in-family</td><td>White</td><td>Male</td><td>2174</td><td>0</td><td>40</td><td>North.America</td><td>&lt;=50K</td></tr>\n",
       "\t<tr><th scope=row>2</th><td>2</td><td>50</td><td>self-emp</td><td> 83311</td><td>Bachelors</td><td>13</td><td><span style=white-space:pre-wrap>Married      </span></td><td><span style=white-space:pre-wrap>Exec-managerial  </span></td><td><span style=white-space:pre-wrap>Husband      </span></td><td>White</td><td>Male</td><td><span style=white-space:pre-wrap>   0</span></td><td>0</td><td>13</td><td>North.America</td><td>&lt;=50K</td></tr>\n",
       "\t<tr><th scope=row>3</th><td>3</td><td>38</td><td>Private </td><td>215646</td><td><span style=white-space:pre-wrap>HS-grad  </span></td><td> 9</td><td><span style=white-space:pre-wrap>Not-Married  </span></td><td>Handlers-cleaners</td><td>Not-in-family</td><td>White</td><td>Male</td><td><span style=white-space:pre-wrap>   0</span></td><td>0</td><td>40</td><td>North.America</td><td>&lt;=50K</td></tr>\n",
       "</tbody>\n",
       "</table>\n"
      ],
      "text/latex": [
       "A data.frame: 3 × 16\n",
       "\\begin{tabular}{r|llllllllllllllll}\n",
       "  & X & age & type\\_employer & fnlwgt & education & education\\_num & marital & occupation & relationship & race & sex & capital\\_gain & capital\\_loss & hr\\_per\\_week & region & income\\\\\n",
       "  & <int> & <int> & <chr> & <int> & <fct> & <int> & <chr> & <fct> & <fct> & <fct> & <fct> & <int> & <int> & <int> & <chr> & <fct>\\\\\n",
       "\\hline\n",
       "\t1 & 1 & 39 & SL-emp   &  77516 & Bachelors & 13 & Never-married & Adm-clerical      & Not-in-family & White & Male & 2174 & 0 & 40 & North.America & <=50K\\\\\n",
       "\t2 & 2 & 50 & self-emp &  83311 & Bachelors & 13 & Married       & Exec-managerial   & Husband       & White & Male &    0 & 0 & 13 & North.America & <=50K\\\\\n",
       "\t3 & 3 & 38 & Private  & 215646 & HS-grad   &  9 & Not-Married   & Handlers-cleaners & Not-in-family & White & Male &    0 & 0 & 40 & North.America & <=50K\\\\\n",
       "\\end{tabular}\n"
      ],
      "text/markdown": [
       "\n",
       "A data.frame: 3 × 16\n",
       "\n",
       "| <!--/--> | X &lt;int&gt; | age &lt;int&gt; | type_employer &lt;chr&gt; | fnlwgt &lt;int&gt; | education &lt;fct&gt; | education_num &lt;int&gt; | marital &lt;chr&gt; | occupation &lt;fct&gt; | relationship &lt;fct&gt; | race &lt;fct&gt; | sex &lt;fct&gt; | capital_gain &lt;int&gt; | capital_loss &lt;int&gt; | hr_per_week &lt;int&gt; | region &lt;chr&gt; | income &lt;fct&gt; |\n",
       "|---|---|---|---|---|---|---|---|---|---|---|---|---|---|---|---|---|\n",
       "| 1 | 1 | 39 | SL-emp   |  77516 | Bachelors | 13 | Never-married | Adm-clerical      | Not-in-family | White | Male | 2174 | 0 | 40 | North.America | &lt;=50K |\n",
       "| 2 | 2 | 50 | self-emp |  83311 | Bachelors | 13 | Married       | Exec-managerial   | Husband       | White | Male |    0 | 0 | 13 | North.America | &lt;=50K |\n",
       "| 3 | 3 | 38 | Private  | 215646 | HS-grad   |  9 | Not-Married   | Handlers-cleaners | Not-in-family | White | Male |    0 | 0 | 40 | North.America | &lt;=50K |\n",
       "\n"
      ],
      "text/plain": [
       "  X age type_employer fnlwgt education education_num marital      \n",
       "1 1 39  SL-emp         77516 Bachelors 13            Never-married\n",
       "2 2 50  self-emp       83311 Bachelors 13            Married      \n",
       "3 3 38  Private       215646 HS-grad    9            Not-Married  \n",
       "  occupation        relationship  race  sex  capital_gain capital_loss\n",
       "1 Adm-clerical      Not-in-family White Male 2174         0           \n",
       "2 Exec-managerial   Husband       White Male    0         0           \n",
       "3 Handlers-cleaners Not-in-family White Male    0         0           \n",
       "  hr_per_week region        income\n",
       "1 40          North.America <=50K \n",
       "2 13          North.America <=50K \n",
       "3 40          North.America <=50K "
      ]
     },
     "metadata": {},
     "output_type": "display_data"
    }
   ],
   "source": [
    "# Renaming country to region\n",
    "head(adult %>% rename(region = country),3)"
   ]
  },
  {
   "cell_type": "code",
   "execution_count": 120,
   "metadata": {},
   "outputs": [],
   "source": [
    "# Missing Data w/Amelia\n",
    "library('Amelia')"
   ]
  },
  {
   "cell_type": "code",
   "execution_count": 121,
   "metadata": {},
   "outputs": [],
   "source": [
    "# Converting ? to NA\n",
    "adult[adult == '?'] <- NA"
   ]
  },
  {
   "cell_type": "code",
   "execution_count": 122,
   "metadata": {},
   "outputs": [],
   "source": [
    "# Omitting N/As\n",
    "adult <- na.omit(adult)"
   ]
  },
  {
   "cell_type": "code",
   "execution_count": 123,
   "metadata": {},
   "outputs": [
    {
     "data": {
      "image/png": "[encoded data removed]",
      "text/plain": [
       "Plot with title \"Missingness Map\""
      ]
     },
     "metadata": {
      "image/png": {
       "height": 420,
       "width": 420
      },
      "text/plain": {
       "height": 420,
       "width": 420
      }
     },
     "output_type": "display_data"
    }
   ],
   "source": [
    "missmap(adult)"
   ]
  },
  {
   "cell_type": "markdown",
   "metadata": {},
   "source": [
    "### Train/Test Split w/CA Tools"
   ]
  },
  {
   "cell_type": "code",
   "execution_count": 124,
   "metadata": {},
   "outputs": [],
   "source": [
    "# Import Library\n",
    "library(caTools)\n",
    "\n",
    "# Set a random see so your \"random\" results are the same as this notebook\n",
    "set.seed(101) \n",
    "\n",
    "# Split up the sample, basically randomly assigns a booleans to a new column \"sample\"\n",
    "sample <- sample.split(adult$income, SplitRatio = 0.70) # SplitRatio = percent of sample==TRUE\n",
    "\n",
    "# Training Data\n",
    "train = subset(adult, sample == TRUE)\n",
    "\n",
    "# Testing Data\n",
    "test = subset(adult, sample == FALSE)"
   ]
  },
  {
   "cell_type": "code",
   "execution_count": 125,
   "metadata": {},
   "outputs": [
    {
     "name": "stderr",
     "output_type": "stream",
     "text": [
      "Warning message:\n",
      "\"glm.fit: fitted probabilities numerically 0 or 1 occurred\"\n"
     ]
    }
   ],
   "source": [
    "# Building the model\n",
    "model = glm(income ~ ., family = binomial(logit), data = train)"
   ]
  },
  {
   "cell_type": "code",
   "execution_count": 126,
   "metadata": {},
   "outputs": [
    {
     "name": "stderr",
     "output_type": "stream",
     "text": [
      "Warning message in predict.lm(object, newdata, se.fit, scale = 1, type = if (type == :\n",
      "\"prediction from a rank-deficient fit may be misleading\"\n"
     ]
    },
    {
     "data": {
      "text/plain": [
       "       \n",
       "        FALSE TRUE\n",
       "  <=50K  6374  546\n",
       "  >50K    874 1421"
      ]
     },
     "metadata": {},
     "output_type": "display_data"
    }
   ],
   "source": [
    "# Confusion Matrix\n",
    "test$predicted.income = predict(model, newdata=test, type=\"response\")\n",
    "table(test$income, test$predicted.income > 0.5)"
   ]
  },
  {
   "cell_type": "code",
   "execution_count": 127,
   "metadata": {},
   "outputs": [
    {
     "data": {
      "text/html": [
       "'Model Accuracy is 0.845903'"
      ],
      "text/latex": [
       "'Model Accuracy is 0.845903'"
      ],
      "text/markdown": [
       "'Model Accuracy is 0.845903'"
      ],
      "text/plain": [
       "[1] \"Model Accuracy is 0.845903\""
      ]
     },
     "metadata": {},
     "output_type": "display_data"
    },
    {
     "data": {
      "text/html": [
       "'Model precision is 0.929321'"
      ],
      "text/latex": [
       "'Model precision is 0.929321'"
      ],
      "text/markdown": [
       "'Model precision is 0.929321'"
      ],
      "text/plain": [
       "[1] \"Model precision is 0.929321\""
      ]
     },
     "metadata": {},
     "output_type": "display_data"
    },
    {
     "data": {
      "text/html": [
       "'Model recall is 0.972832'"
      ],
      "text/latex": [
       "'Model recall is 0.972832'"
      ],
      "text/markdown": [
       "'Model recall is 0.972832'"
      ],
      "text/plain": [
       "[1] \"Model recall is 0.972832\""
      ]
     },
     "metadata": {},
     "output_type": "display_data"
    }
   ],
   "source": [
    "# Accuracy\n",
    "accuracy = (6372+1423)/(6372+1423+548+872)\n",
    "sprintf(\"Model Accuracy is %f\", accuracy)\n",
    "\n",
    "# Precision\n",
    "precision = 6732/(6372+872)\n",
    "sprintf(\"Model precision is %f\", precision)\n",
    "\n",
    "# Recall \n",
    "recall = 6732/(6372+548)\n",
    "sprintf(\"Model recall is %f\", recall)"
   ]
  },
  {
   "cell_type": "code",
   "execution_count": 128,
   "metadata": {},
   "outputs": [],
   "source": [
    "library(arm)"
   ]
  },
  {
   "cell_type": "code",
   "execution_count": 129,
   "metadata": {},
   "outputs": [
    {
     "data": {
      "image/png": "[encoded data removed]",
      "text/plain": [
       "Plot with title \"Binned residual plot\""
      ]
     },
     "metadata": {
      "image/png": {
       "height": 420,
       "width": 420
      },
      "text/plain": {
       "height": 420,
       "width": 420
      }
     },
     "output_type": "display_data"
    }
   ],
   "source": [
    "binnedplot(fitted(model),residuals(model,\"resp\"),xlab=\"Pred.probabilities\",col.int=\"red4\", ylab=\"Avg. residuals\",main=\"Binned residual plot\",col.pts=\"navy\")"
   ]
  },
  {
   "cell_type": "markdown",
   "metadata": {},
   "source": [
    "### Roc Curve"
   ]
  },
  {
   "cell_type": "code",
   "execution_count": 135,
   "metadata": {},
   "outputs": [
    {
     "name": "stderr",
     "output_type": "stream",
     "text": [
      "Setting levels: control = <=50K, case = >50K\n",
      "\n",
      "Setting direction: controls < cases\n",
      "\n"
     ]
    },
    {
     "data": {
      "image/png": "[encoded data removed]",
      "text/plain": [
       "plot without title"
      ]
     },
     "metadata": {
      "image/png": {
       "height": 420,
       "width": 420
      },
      "text/plain": {
       "height": 420,
       "width": 420
      }
     },
     "output_type": "display_data"
    }
   ],
   "source": [
    "library(pROC)\n",
    "test_roc = roc(test$income ~ test$predicted.income, plot = TRUE, print.auc = TRUE)"
   ]
  },
  {
   "cell_type": "markdown",
   "metadata": {},
   "source": [
    "## KNN \n",
    "### Using the iris dataset"
   ]
  },
  {
   "cell_type": "code",
   "execution_count": 53,
   "metadata": {},
   "outputs": [
    {
     "name": "stderr",
     "output_type": "stream",
     "text": [
      "Warning message:\n",
      "\"package 'ISLR' was built under R version 3.6.3\"\n"
     ]
    }
   ],
   "source": [
    "library(\"ISLR\")"
   ]
  },
  {
   "cell_type": "code",
   "execution_count": 54,
   "metadata": {},
   "outputs": [
    {
     "data": {
      "text/html": [
       "<table>\n",
       "<caption>A data.frame: 3 × 5</caption>\n",
       "<thead>\n",
       "\t<tr><th></th><th scope=col>Sepal.Length</th><th scope=col>Sepal.Width</th><th scope=col>Petal.Length</th><th scope=col>Petal.Width</th><th scope=col>Species</th></tr>\n",
       "\t<tr><th></th><th scope=col>&lt;dbl&gt;</th><th scope=col>&lt;dbl&gt;</th><th scope=col>&lt;dbl&gt;</th><th scope=col>&lt;dbl&gt;</th><th scope=col>&lt;fct&gt;</th></tr>\n",
       "</thead>\n",
       "<tbody>\n",
       "\t<tr><th scope=row>1</th><td>5.1</td><td>3.5</td><td>1.4</td><td>0.2</td><td>setosa</td></tr>\n",
       "\t<tr><th scope=row>2</th><td>4.9</td><td>3.0</td><td>1.4</td><td>0.2</td><td>setosa</td></tr>\n",
       "\t<tr><th scope=row>3</th><td>4.7</td><td>3.2</td><td>1.3</td><td>0.2</td><td>setosa</td></tr>\n",
       "</tbody>\n",
       "</table>\n"
      ],
      "text/latex": [
       "A data.frame: 3 × 5\n",
       "\\begin{tabular}{r|lllll}\n",
       "  & Sepal.Length & Sepal.Width & Petal.Length & Petal.Width & Species\\\\\n",
       "  & <dbl> & <dbl> & <dbl> & <dbl> & <fct>\\\\\n",
       "\\hline\n",
       "\t1 & 5.1 & 3.5 & 1.4 & 0.2 & setosa\\\\\n",
       "\t2 & 4.9 & 3.0 & 1.4 & 0.2 & setosa\\\\\n",
       "\t3 & 4.7 & 3.2 & 1.3 & 0.2 & setosa\\\\\n",
       "\\end{tabular}\n"
      ],
      "text/markdown": [
       "\n",
       "A data.frame: 3 × 5\n",
       "\n",
       "| <!--/--> | Sepal.Length &lt;dbl&gt; | Sepal.Width &lt;dbl&gt; | Petal.Length &lt;dbl&gt; | Petal.Width &lt;dbl&gt; | Species &lt;fct&gt; |\n",
       "|---|---|---|---|---|---|\n",
       "| 1 | 5.1 | 3.5 | 1.4 | 0.2 | setosa |\n",
       "| 2 | 4.9 | 3.0 | 1.4 | 0.2 | setosa |\n",
       "| 3 | 4.7 | 3.2 | 1.3 | 0.2 | setosa |\n",
       "\n"
      ],
      "text/plain": [
       "  Sepal.Length Sepal.Width Petal.Length Petal.Width Species\n",
       "1 5.1          3.5         1.4          0.2         setosa \n",
       "2 4.9          3.0         1.4          0.2         setosa \n",
       "3 4.7          3.2         1.3          0.2         setosa "
      ]
     },
     "metadata": {},
     "output_type": "display_data"
    }
   ],
   "source": [
    "head(iris, 3)"
   ]
  },
  {
   "cell_type": "code",
   "execution_count": 55,
   "metadata": {},
   "outputs": [
    {
     "data": {
      "text/html": [
       "1"
      ],
      "text/latex": [
       "1"
      ],
      "text/markdown": [
       "1"
      ],
      "text/plain": [
       "[1] 1"
      ]
     },
     "metadata": {},
     "output_type": "display_data"
    }
   ],
   "source": [
    "# Remember to use KNN you first have to scale the data\n",
    "iris.scaled <- scale(iris[,-5])\n",
    "\n",
    "# Checking the variance\n",
    "var(iris.scaled[,1])"
   ]
  },
  {
   "cell_type": "code",
   "execution_count": 56,
   "metadata": {},
   "outputs": [
    {
     "data": {
      "text/html": [
       "<table>\n",
       "<caption>A data.frame: 3 × 5</caption>\n",
       "<thead>\n",
       "\t<tr><th></th><th scope=col>Sepal.Length</th><th scope=col>Sepal.Width</th><th scope=col>Petal.Length</th><th scope=col>Petal.Width</th><th scope=col>flower.type</th></tr>\n",
       "\t<tr><th></th><th scope=col>&lt;dbl&gt;</th><th scope=col>&lt;dbl&gt;</th><th scope=col>&lt;dbl&gt;</th><th scope=col>&lt;dbl&gt;</th><th scope=col>&lt;fct&gt;</th></tr>\n",
       "</thead>\n",
       "<tbody>\n",
       "\t<tr><th scope=row>1</th><td>-0.8976739</td><td> 1.0156020</td><td>-1.335752</td><td>-1.311052</td><td>setosa</td></tr>\n",
       "\t<tr><th scope=row>2</th><td>-1.1392005</td><td>-0.1315388</td><td>-1.335752</td><td>-1.311052</td><td>setosa</td></tr>\n",
       "\t<tr><th scope=row>3</th><td>-1.3807271</td><td> 0.3273175</td><td>-1.392399</td><td>-1.311052</td><td>setosa</td></tr>\n",
       "</tbody>\n",
       "</table>\n"
      ],
      "text/latex": [
       "A data.frame: 3 × 5\n",
       "\\begin{tabular}{r|lllll}\n",
       "  & Sepal.Length & Sepal.Width & Petal.Length & Petal.Width & flower.type\\\\\n",
       "  & <dbl> & <dbl> & <dbl> & <dbl> & <fct>\\\\\n",
       "\\hline\n",
       "\t1 & -0.8976739 &  1.0156020 & -1.335752 & -1.311052 & setosa\\\\\n",
       "\t2 & -1.1392005 & -0.1315388 & -1.335752 & -1.311052 & setosa\\\\\n",
       "\t3 & -1.3807271 &  0.3273175 & -1.392399 & -1.311052 & setosa\\\\\n",
       "\\end{tabular}\n"
      ],
      "text/markdown": [
       "\n",
       "A data.frame: 3 × 5\n",
       "\n",
       "| <!--/--> | Sepal.Length &lt;dbl&gt; | Sepal.Width &lt;dbl&gt; | Petal.Length &lt;dbl&gt; | Petal.Width &lt;dbl&gt; | flower.type &lt;fct&gt; |\n",
       "|---|---|---|---|---|---|\n",
       "| 1 | -0.8976739 |  1.0156020 | -1.335752 | -1.311052 | setosa |\n",
       "| 2 | -1.1392005 | -0.1315388 | -1.335752 | -1.311052 | setosa |\n",
       "| 3 | -1.3807271 |  0.3273175 | -1.392399 | -1.311052 | setosa |\n",
       "\n"
      ],
      "text/plain": [
       "  Sepal.Length Sepal.Width Petal.Length Petal.Width flower.type\n",
       "1 -0.8976739    1.0156020  -1.335752    -1.311052   setosa     \n",
       "2 -1.1392005   -0.1315388  -1.335752    -1.311052   setosa     \n",
       "3 -1.3807271    0.3273175  -1.392399    -1.311052   setosa     "
      ]
     },
     "metadata": {},
     "output_type": "display_data"
    }
   ],
   "source": [
    "# Rejoining the output with the standardized dataframe\n",
    "# Selecting the flower type\n",
    "flower.type <- iris[,5]\n",
    "\n",
    "# # Putting it into a Dataframe\n",
    "flower.type <- data.frame(flower.type)\n",
    "\n",
    "# Column binding with the scaled data \n",
    "iris.working <- cbind(iris.scaled, flower.type)\n",
    "\n",
    "head(iris.working,3)"
   ]
  },
  {
   "cell_type": "code",
   "execution_count": 57,
   "metadata": {},
   "outputs": [],
   "source": [
    "# Train/Test split using the caTools library\n",
    "set.seed(101)\n",
    "\n",
    "sample <- sample.split(iris.working$flower.type, SplitRatio = .70)\n",
    "train <- subset(iris.working, sample == TRUE)\n",
    "test <- subset(iris.working, sample == FALSE)"
   ]
  },
  {
   "cell_type": "code",
   "execution_count": 60,
   "metadata": {},
   "outputs": [
    {
     "name": "stderr",
     "output_type": "stream",
     "text": [
      "Warning message:\n",
      "\"package 'class' was built under R version 3.6.3\"\n"
     ]
    }
   ],
   "source": [
    "# Building the knn with the class library\n",
    "library('class')\n",
    "\n",
    "# K = 1\n",
    "predicted.species <- knn(train[1:4],test[1:4],train$flower.type,k=1)"
   ]
  },
  {
   "cell_type": "code",
   "execution_count": 61,
   "metadata": {},
   "outputs": [
    {
     "name": "stdout",
     "output_type": "stream",
     "text": [
      "[1] \"The misclasification rate was 0.0444444444444444\"\n"
     ]
    }
   ],
   "source": [
    "#predicted.species\n",
    "v <- mean(test$flower.type != predicted.species) # Error rate calculation\n",
    "print(paste0(\"The misclasification rate was \", v))"
   ]
  },
  {
   "cell_type": "markdown",
   "metadata": {},
   "source": [
    "### The \"Elbow Method\" for KNN"
   ]
  },
  {
   "cell_type": "code",
   "execution_count": 62,
   "metadata": {},
   "outputs": [],
   "source": [
    "# For loop over values of k\n",
    "predicted.purchase = NULL\n",
    "error.rate = NULL\n",
    "\n",
    "for(i in 1:10){\n",
    "    set.seed(101)\n",
    "    predicted.species = knn(train[1:4],test[1:4],train$flower.type,k=i)\n",
    "    error.rate[i] = mean(test$flower.type != predicted.species)\n",
    "}"
   ]
  },
  {
   "cell_type": "code",
   "execution_count": 63,
   "metadata": {},
   "outputs": [],
   "source": [
    "# Creating a K Values DF\n",
    "k.values <- 1:10\n",
    "df <- data.frame(k.values, error.rate)"
   ]
  },
  {
   "cell_type": "code",
   "execution_count": 66,
   "metadata": {},
   "outputs": [
    {
     "data": {
      "image/png": "[encoded data removed]",
      "text/plain": [
       "plot without title"
      ]
     },
     "metadata": {
      "image/png": {
       "height": 420,
       "width": 420
      },
      "text/plain": {
       "height": 420,
       "width": 420
      }
     },
     "output_type": "display_data"
    }
   ],
   "source": [
    "# Plotting (K between 2-6 works the best)\n",
    "ggplot(df, aes(x = k.values, error.rate)) + geom_point() + geom_line(lty = 'dotted', color = 'blue')"
   ]
  },
  {
   "cell_type": "markdown",
   "metadata": {},
   "source": [
    "## Decision Trees/Random Forest"
   ]
  },
  {
   "cell_type": "code",
   "execution_count": 78,
   "metadata": {},
   "outputs": [
    {
     "data": {
      "text/html": [
       "<table>\n",
       "<caption>A data.frame: 3 × 18</caption>\n",
       "<thead>\n",
       "\t<tr><th></th><th scope=col>Private</th><th scope=col>Apps</th><th scope=col>Accept</th><th scope=col>Enroll</th><th scope=col>Top10perc</th><th scope=col>Top25perc</th><th scope=col>F.Undergrad</th><th scope=col>P.Undergrad</th><th scope=col>Outstate</th><th scope=col>Room.Board</th><th scope=col>Books</th><th scope=col>Personal</th><th scope=col>PhD</th><th scope=col>Terminal</th><th scope=col>S.F.Ratio</th><th scope=col>perc.alumni</th><th scope=col>Expend</th><th scope=col>Grad.Rate</th></tr>\n",
       "\t<tr><th></th><th scope=col>&lt;fct&gt;</th><th scope=col>&lt;dbl&gt;</th><th scope=col>&lt;dbl&gt;</th><th scope=col>&lt;dbl&gt;</th><th scope=col>&lt;dbl&gt;</th><th scope=col>&lt;dbl&gt;</th><th scope=col>&lt;dbl&gt;</th><th scope=col>&lt;dbl&gt;</th><th scope=col>&lt;dbl&gt;</th><th scope=col>&lt;dbl&gt;</th><th scope=col>&lt;dbl&gt;</th><th scope=col>&lt;dbl&gt;</th><th scope=col>&lt;dbl&gt;</th><th scope=col>&lt;dbl&gt;</th><th scope=col>&lt;dbl&gt;</th><th scope=col>&lt;dbl&gt;</th><th scope=col>&lt;dbl&gt;</th><th scope=col>&lt;dbl&gt;</th></tr>\n",
       "</thead>\n",
       "<tbody>\n",
       "\t<tr><th scope=row>Abilene Christian University</th><td>Yes</td><td>1660</td><td>1232</td><td>721</td><td>23</td><td>52</td><td>2885</td><td> 537</td><td> 7440</td><td>3300</td><td>450</td><td>2200</td><td>70</td><td>78</td><td>18.1</td><td>12</td><td> 7041</td><td>60</td></tr>\n",
       "\t<tr><th scope=row>Adelphi University</th><td>Yes</td><td>2186</td><td>1924</td><td>512</td><td>16</td><td>29</td><td>2683</td><td>1227</td><td>12280</td><td>6450</td><td>750</td><td>1500</td><td>29</td><td>30</td><td>12.2</td><td>16</td><td>10527</td><td>56</td></tr>\n",
       "\t<tr><th scope=row>Adrian College</th><td>Yes</td><td>1428</td><td>1097</td><td>336</td><td>22</td><td>50</td><td>1036</td><td>  99</td><td>11250</td><td>3750</td><td>400</td><td>1165</td><td>53</td><td>66</td><td>12.9</td><td>30</td><td> 8735</td><td>54</td></tr>\n",
       "</tbody>\n",
       "</table>\n"
      ],
      "text/latex": [
       "A data.frame: 3 × 18\n",
       "\\begin{tabular}{r|llllllllllllllllll}\n",
       "  & Private & Apps & Accept & Enroll & Top10perc & Top25perc & F.Undergrad & P.Undergrad & Outstate & Room.Board & Books & Personal & PhD & Terminal & S.F.Ratio & perc.alumni & Expend & Grad.Rate\\\\\n",
       "  & <fct> & <dbl> & <dbl> & <dbl> & <dbl> & <dbl> & <dbl> & <dbl> & <dbl> & <dbl> & <dbl> & <dbl> & <dbl> & <dbl> & <dbl> & <dbl> & <dbl> & <dbl>\\\\\n",
       "\\hline\n",
       "\tAbilene Christian University & Yes & 1660 & 1232 & 721 & 23 & 52 & 2885 &  537 &  7440 & 3300 & 450 & 2200 & 70 & 78 & 18.1 & 12 &  7041 & 60\\\\\n",
       "\tAdelphi University & Yes & 2186 & 1924 & 512 & 16 & 29 & 2683 & 1227 & 12280 & 6450 & 750 & 1500 & 29 & 30 & 12.2 & 16 & 10527 & 56\\\\\n",
       "\tAdrian College & Yes & 1428 & 1097 & 336 & 22 & 50 & 1036 &   99 & 11250 & 3750 & 400 & 1165 & 53 & 66 & 12.9 & 30 &  8735 & 54\\\\\n",
       "\\end{tabular}\n"
      ],
      "text/markdown": [
       "\n",
       "A data.frame: 3 × 18\n",
       "\n",
       "| <!--/--> | Private &lt;fct&gt; | Apps &lt;dbl&gt; | Accept &lt;dbl&gt; | Enroll &lt;dbl&gt; | Top10perc &lt;dbl&gt; | Top25perc &lt;dbl&gt; | F.Undergrad &lt;dbl&gt; | P.Undergrad &lt;dbl&gt; | Outstate &lt;dbl&gt; | Room.Board &lt;dbl&gt; | Books &lt;dbl&gt; | Personal &lt;dbl&gt; | PhD &lt;dbl&gt; | Terminal &lt;dbl&gt; | S.F.Ratio &lt;dbl&gt; | perc.alumni &lt;dbl&gt; | Expend &lt;dbl&gt; | Grad.Rate &lt;dbl&gt; |\n",
       "|---|---|---|---|---|---|---|---|---|---|---|---|---|---|---|---|---|---|---|\n",
       "| Abilene Christian University | Yes | 1660 | 1232 | 721 | 23 | 52 | 2885 |  537 |  7440 | 3300 | 450 | 2200 | 70 | 78 | 18.1 | 12 |  7041 | 60 |\n",
       "| Adelphi University | Yes | 2186 | 1924 | 512 | 16 | 29 | 2683 | 1227 | 12280 | 6450 | 750 | 1500 | 29 | 30 | 12.2 | 16 | 10527 | 56 |\n",
       "| Adrian College | Yes | 1428 | 1097 | 336 | 22 | 50 | 1036 |   99 | 11250 | 3750 | 400 | 1165 | 53 | 66 | 12.9 | 30 |  8735 | 54 |\n",
       "\n"
      ],
      "text/plain": [
       "                             Private Apps Accept Enroll Top10perc Top25perc\n",
       "Abilene Christian University Yes     1660 1232   721    23        52       \n",
       "Adelphi University           Yes     2186 1924   512    16        29       \n",
       "Adrian College               Yes     1428 1097   336    22        50       \n",
       "                             F.Undergrad P.Undergrad Outstate Room.Board Books\n",
       "Abilene Christian University 2885         537         7440    3300       450  \n",
       "Adelphi University           2683        1227        12280    6450       750  \n",
       "Adrian College               1036          99        11250    3750       400  \n",
       "                             Personal PhD Terminal S.F.Ratio perc.alumni Expend\n",
       "Abilene Christian University 2200     70  78       18.1      12           7041 \n",
       "Adelphi University           1500     29  30       12.2      16          10527 \n",
       "Adrian College               1165     53  66       12.9      30           8735 \n",
       "                             Grad.Rate\n",
       "Abilene Christian University 60       \n",
       "Adelphi University           56       \n",
       "Adrian College               54       "
      ]
     },
     "metadata": {},
     "output_type": "display_data"
    }
   ],
   "source": [
    "# Using the College DF from the ISLR library\n",
    "df <- College\n",
    "head(df,3)"
   ]
  },
  {
   "cell_type": "code",
   "execution_count": 79,
   "metadata": {},
   "outputs": [],
   "source": [
    "# Removing one outlier that had over 100% grad rate\n",
    "df[c('Cazenovia College'),]$Grad.Rate = 100"
   ]
  },
  {
   "cell_type": "code",
   "execution_count": 80,
   "metadata": {},
   "outputs": [],
   "source": [
    "# Train Test Split\n",
    "set.seed(101)\n",
    "\n",
    "split = sample.split(df$Private, SplitRatio = 0.70)\n",
    "\n",
    "final.train = subset(df, split == TRUE)\n",
    "final.test = subset(df, split == FALSE)"
   ]
  },
  {
   "cell_type": "code",
   "execution_count": 81,
   "metadata": {},
   "outputs": [],
   "source": [
    "# Building a decision tree with the rpart library\n",
    "library('rpart')\n",
    "tree <- rpart(Private ~ ., method ='class', data = final.train)"
   ]
  },
  {
   "cell_type": "code",
   "execution_count": 82,
   "metadata": {},
   "outputs": [],
   "source": [
    "# Making predictions\n",
    "tree.preds <- predict(tree, final.test)"
   ]
  },
  {
   "cell_type": "code",
   "execution_count": 84,
   "metadata": {},
   "outputs": [
    {
     "data": {
      "text/html": [
       "<table>\n",
       "<caption>A matrix: 3 × 2 of type dbl</caption>\n",
       "<thead>\n",
       "\t<tr><th></th><th scope=col>No</th><th scope=col>Yes</th></tr>\n",
       "</thead>\n",
       "<tbody>\n",
       "\t<tr><th scope=row>Adrian College</th><td>0.003311258</td><td>0.9966887</td></tr>\n",
       "\t<tr><th scope=row>Alfred University</th><td>0.003311258</td><td>0.9966887</td></tr>\n",
       "\t<tr><th scope=row>Allegheny College</th><td>0.003311258</td><td>0.9966887</td></tr>\n",
       "</tbody>\n",
       "</table>\n"
      ],
      "text/latex": [
       "A matrix: 3 × 2 of type dbl\n",
       "\\begin{tabular}{r|ll}\n",
       "  & No & Yes\\\\\n",
       "\\hline\n",
       "\tAdrian College & 0.003311258 & 0.9966887\\\\\n",
       "\tAlfred University & 0.003311258 & 0.9966887\\\\\n",
       "\tAllegheny College & 0.003311258 & 0.9966887\\\\\n",
       "\\end{tabular}\n"
      ],
      "text/markdown": [
       "\n",
       "A matrix: 3 × 2 of type dbl\n",
       "\n",
       "| <!--/--> | No | Yes |\n",
       "|---|---|---|\n",
       "| Adrian College | 0.003311258 | 0.9966887 |\n",
       "| Alfred University | 0.003311258 | 0.9966887 |\n",
       "| Allegheny College | 0.003311258 | 0.9966887 |\n",
       "\n"
      ],
      "text/plain": [
       "                  No          Yes      \n",
       "Adrian College    0.003311258 0.9966887\n",
       "Alfred University 0.003311258 0.9966887\n",
       "Allegheny College 0.003311258 0.9966887"
      ]
     },
     "metadata": {},
     "output_type": "display_data"
    }
   ],
   "source": [
    "head(tree.preds,3)"
   ]
  },
  {
   "cell_type": "code",
   "execution_count": 85,
   "metadata": {},
   "outputs": [],
   "source": [
    "# Attaching the private label \n",
    "tree.preds <- as.data.frame(tree.preds)\n",
    "joiner <- function(x){\n",
    "    if (x>=0.5){\n",
    "        return('Yes')\n",
    "    }else{\n",
    "        return(\"No\")\n",
    "    }\n",
    "}"
   ]
  },
  {
   "cell_type": "code",
   "execution_count": 86,
   "metadata": {},
   "outputs": [
    {
     "data": {
      "text/html": [
       "<table>\n",
       "<caption>A data.frame: 3 × 3</caption>\n",
       "<thead>\n",
       "\t<tr><th></th><th scope=col>No</th><th scope=col>Yes</th><th scope=col>Private</th></tr>\n",
       "\t<tr><th></th><th scope=col>&lt;dbl&gt;</th><th scope=col>&lt;dbl&gt;</th><th scope=col>&lt;chr&gt;</th></tr>\n",
       "</thead>\n",
       "<tbody>\n",
       "\t<tr><th scope=row>Adrian College</th><td>0.003311258</td><td>0.9966887</td><td>Yes</td></tr>\n",
       "\t<tr><th scope=row>Alfred University</th><td>0.003311258</td><td>0.9966887</td><td>Yes</td></tr>\n",
       "\t<tr><th scope=row>Allegheny College</th><td>0.003311258</td><td>0.9966887</td><td>Yes</td></tr>\n",
       "</tbody>\n",
       "</table>\n"
      ],
      "text/latex": [
       "A data.frame: 3 × 3\n",
       "\\begin{tabular}{r|lll}\n",
       "  & No & Yes & Private\\\\\n",
       "  & <dbl> & <dbl> & <chr>\\\\\n",
       "\\hline\n",
       "\tAdrian College & 0.003311258 & 0.9966887 & Yes\\\\\n",
       "\tAlfred University & 0.003311258 & 0.9966887 & Yes\\\\\n",
       "\tAllegheny College & 0.003311258 & 0.9966887 & Yes\\\\\n",
       "\\end{tabular}\n"
      ],
      "text/markdown": [
       "\n",
       "A data.frame: 3 × 3\n",
       "\n",
       "| <!--/--> | No &lt;dbl&gt; | Yes &lt;dbl&gt; | Private &lt;chr&gt; |\n",
       "|---|---|---|---|\n",
       "| Adrian College | 0.003311258 | 0.9966887 | Yes |\n",
       "| Alfred University | 0.003311258 | 0.9966887 | Yes |\n",
       "| Allegheny College | 0.003311258 | 0.9966887 | Yes |\n",
       "\n"
      ],
      "text/plain": [
       "                  No          Yes       Private\n",
       "Adrian College    0.003311258 0.9966887 Yes    \n",
       "Alfred University 0.003311258 0.9966887 Yes    \n",
       "Allegheny College 0.003311258 0.9966887 Yes    "
      ]
     },
     "metadata": {},
     "output_type": "display_data"
    }
   ],
   "source": [
    "tree.preds$Private <- sapply(tree.preds$Yes,joiner)\n",
    "head(tree.preds, 3)"
   ]
  },
  {
   "cell_type": "code",
   "execution_count": 87,
   "metadata": {},
   "outputs": [
    {
     "data": {
      "text/plain": [
       "     \n",
       "       No Yes\n",
       "  No   57   9\n",
       "  Yes   7 160"
      ]
     },
     "metadata": {},
     "output_type": "display_data"
    }
   ],
   "source": [
    "# Confusion Matrix\n",
    "table(tree.preds$Private, final.test$Private)"
   ]
  },
  {
   "cell_type": "code",
   "execution_count": 88,
   "metadata": {},
   "outputs": [
    {
     "name": "stderr",
     "output_type": "stream",
     "text": [
      "Warning message:\n",
      "\"package 'rpart.plot' was built under R version 3.6.3\"\n"
     ]
    },
    {
     "data": {
      "image/png": "[encoded data removed]",
      "text/plain": [
       "plot without title"
      ]
     },
     "metadata": {
      "image/png": {
       "height": 420,
       "width": 420
      },
      "text/plain": {
       "height": 420,
       "width": 420
      }
     },
     "output_type": "display_data"
    }
   ],
   "source": [
    "# Plotting the tree with the rpart library\n",
    "library(rpart.plot)\n",
    "prp(tree)"
   ]
  },
  {
   "cell_type": "code",
   "execution_count": 89,
   "metadata": {},
   "outputs": [
    {
     "name": "stderr",
     "output_type": "stream",
     "text": [
      "randomForest 4.6-14\n",
      "\n",
      "Type rfNews() to see new features/changes/bug fixes.\n",
      "\n",
      "\n",
      "Attaching package: 'randomForest'\n",
      "\n",
      "\n",
      "The following object is masked from 'package:ggplot2':\n",
      "\n",
      "    margin\n",
      "\n",
      "\n",
      "The following object is masked from 'package:dplyr':\n",
      "\n",
      "    combine\n",
      "\n",
      "\n"
     ]
    }
   ],
   "source": [
    "# Sample problem using random forest\n",
    "library(randomForest)"
   ]
  },
  {
   "cell_type": "code",
   "execution_count": 90,
   "metadata": {},
   "outputs": [],
   "source": [
    "randForest <- randomForest(Private ~ ., data = final.train)"
   ]
  },
  {
   "cell_type": "code",
   "execution_count": 91,
   "metadata": {},
   "outputs": [
    {
     "data": {
      "text/html": [
       "<table>\n",
       "<caption>A matrix: 17 × 1 of type dbl</caption>\n",
       "<thead>\n",
       "\t<tr><th></th><th scope=col>MeanDecreaseGini</th></tr>\n",
       "</thead>\n",
       "<tbody>\n",
       "\t<tr><th scope=row>Apps</th><td> 9.115058</td></tr>\n",
       "\t<tr><th scope=row>Accept</th><td>12.877181</td></tr>\n",
       "\t<tr><th scope=row>Enroll</th><td>21.203437</td></tr>\n",
       "\t<tr><th scope=row>Top10perc</th><td> 5.290634</td></tr>\n",
       "\t<tr><th scope=row>Top25perc</th><td> 4.449940</td></tr>\n",
       "\t<tr><th scope=row>F.Undergrad</th><td>41.842334</td></tr>\n",
       "\t<tr><th scope=row>P.Undergrad</th><td>14.757270</td></tr>\n",
       "\t<tr><th scope=row>Outstate</th><td>41.256178</td></tr>\n",
       "\t<tr><th scope=row>Room.Board</th><td>11.805328</td></tr>\n",
       "\t<tr><th scope=row>Books</th><td> 2.155344</td></tr>\n",
       "\t<tr><th scope=row>Personal</th><td> 3.452962</td></tr>\n",
       "\t<tr><th scope=row>PhD</th><td> 4.686936</td></tr>\n",
       "\t<tr><th scope=row>Terminal</th><td> 4.239140</td></tr>\n",
       "\t<tr><th scope=row>S.F.Ratio</th><td>16.170093</td></tr>\n",
       "\t<tr><th scope=row>perc.alumni</th><td> 4.761985</td></tr>\n",
       "\t<tr><th scope=row>Expend</th><td>10.205162</td></tr>\n",
       "\t<tr><th scope=row>Grad.Rate</th><td> 7.152724</td></tr>\n",
       "</tbody>\n",
       "</table>\n"
      ],
      "text/latex": [
       "A matrix: 17 × 1 of type dbl\n",
       "\\begin{tabular}{r|l}\n",
       "  & MeanDecreaseGini\\\\\n",
       "\\hline\n",
       "\tApps &  9.115058\\\\\n",
       "\tAccept & 12.877181\\\\\n",
       "\tEnroll & 21.203437\\\\\n",
       "\tTop10perc &  5.290634\\\\\n",
       "\tTop25perc &  4.449940\\\\\n",
       "\tF.Undergrad & 41.842334\\\\\n",
       "\tP.Undergrad & 14.757270\\\\\n",
       "\tOutstate & 41.256178\\\\\n",
       "\tRoom.Board & 11.805328\\\\\n",
       "\tBooks &  2.155344\\\\\n",
       "\tPersonal &  3.452962\\\\\n",
       "\tPhD &  4.686936\\\\\n",
       "\tTerminal &  4.239140\\\\\n",
       "\tS.F.Ratio & 16.170093\\\\\n",
       "\tperc.alumni &  4.761985\\\\\n",
       "\tExpend & 10.205162\\\\\n",
       "\tGrad.Rate &  7.152724\\\\\n",
       "\\end{tabular}\n"
      ],
      "text/markdown": [
       "\n",
       "A matrix: 17 × 1 of type dbl\n",
       "\n",
       "| <!--/--> | MeanDecreaseGini |\n",
       "|---|---|\n",
       "| Apps |  9.115058 |\n",
       "| Accept | 12.877181 |\n",
       "| Enroll | 21.203437 |\n",
       "| Top10perc |  5.290634 |\n",
       "| Top25perc |  4.449940 |\n",
       "| F.Undergrad | 41.842334 |\n",
       "| P.Undergrad | 14.757270 |\n",
       "| Outstate | 41.256178 |\n",
       "| Room.Board | 11.805328 |\n",
       "| Books |  2.155344 |\n",
       "| Personal |  3.452962 |\n",
       "| PhD |  4.686936 |\n",
       "| Terminal |  4.239140 |\n",
       "| S.F.Ratio | 16.170093 |\n",
       "| perc.alumni |  4.761985 |\n",
       "| Expend | 10.205162 |\n",
       "| Grad.Rate |  7.152724 |\n",
       "\n"
      ],
      "text/plain": [
       "            MeanDecreaseGini\n",
       "Apps         9.115058       \n",
       "Accept      12.877181       \n",
       "Enroll      21.203437       \n",
       "Top10perc    5.290634       \n",
       "Top25perc    4.449940       \n",
       "F.Undergrad 41.842334       \n",
       "P.Undergrad 14.757270       \n",
       "Outstate    41.256178       \n",
       "Room.Board  11.805328       \n",
       "Books        2.155344       \n",
       "Personal     3.452962       \n",
       "PhD          4.686936       \n",
       "Terminal     4.239140       \n",
       "S.F.Ratio   16.170093       \n",
       "perc.alumni  4.761985       \n",
       "Expend      10.205162       \n",
       "Grad.Rate    7.152724       "
      ]
     },
     "metadata": {},
     "output_type": "display_data"
    }
   ],
   "source": [
    "randForest$importance"
   ]
  },
  {
   "cell_type": "code",
   "execution_count": 92,
   "metadata": {},
   "outputs": [
    {
     "data": {
      "text/plain": [
       "                     \n",
       "randForestPredictions  No Yes\n",
       "                  No   55   7\n",
       "                  Yes   9 162"
      ]
     },
     "metadata": {},
     "output_type": "display_data"
    }
   ],
   "source": [
    "# Building the confusion matrix\n",
    "randForestPredictions <- predict(randForest,final.test)\n",
    "table(randForestPredictions, final.test$Private)"
   ]
  },
  {
   "cell_type": "markdown",
   "metadata": {},
   "source": [
    "## Support Vecotr Machines "
   ]
  },
  {
   "cell_type": "code",
   "execution_count": 137,
   "metadata": {},
   "outputs": [],
   "source": [
    "# Inputting the data\n",
    "loans <- read.csv('data//loan_data.csv')\n",
    "\n",
    "# Converting to factor variables\n",
    "loans$inq.last.6mths <- as.factor(loans$inq.last.6mths)\n",
    "loans$delinq.2yrs <- as.factor(loans$delinq.2yrs)\n",
    "loans$pub.rec <- as.factor(loans$pub.rec)\n",
    "loans$not.fully.paid <- as.factor(loans$not.fully.paid)\n",
    "loans$credit.policy <- as.factor(loans$credit.policy)"
   ]
  },
  {
   "cell_type": "code",
   "execution_count": 138,
   "metadata": {},
   "outputs": [],
   "source": [
    "# Splitting into train and test. We will be seeing if someone is likely to default on their loans\n",
    "set.seed(101) \n",
    "\n",
    "sample = sample.split(loans$not.fully.paid, SplitRatio = .70)\n",
    "train = subset(loans, sample == TRUE)\n",
    "test = subset(loans, sample == FALSE)"
   ]
  },
  {
   "cell_type": "code",
   "execution_count": 139,
   "metadata": {},
   "outputs": [
    {
     "name": "stderr",
     "output_type": "stream",
     "text": [
      "Warning message:\n",
      "\"package 'e1071' was built under R version 3.6.3\"\n"
     ]
    },
    {
     "data": {
      "text/plain": [
       "\n",
       "Call:\n",
       "svm(formula = not.fully.paid ~ ., data = train)\n",
       "\n",
       "\n",
       "Parameters:\n",
       "   SVM-Type:  C-classification \n",
       " SVM-Kernel:  radial \n",
       "       cost:  1 \n",
       "\n",
       "Number of Support Vectors:  2849\n",
       "\n",
       " ( 1776 1073 )\n",
       "\n",
       "\n",
       "Number of Classes:  2 \n",
       "\n",
       "Levels: \n",
       " 0 1\n",
       "\n",
       "\n"
      ]
     },
     "metadata": {},
     "output_type": "display_data"
    }
   ],
   "source": [
    "# Building a model with the e1071 library\n",
    "library(e1071)\n",
    "\n",
    "# Building the model\n",
    "model <- svm(not.fully.paid ~ . , data = train)\n",
    "\n",
    "# Printing the summary\n",
    "summary(model)"
   ]
  },
  {
   "cell_type": "code",
   "execution_count": 140,
   "metadata": {},
   "outputs": [
    {
     "data": {
      "text/plain": [
       "                \n",
       "predicted.values    0    1\n",
       "               0 2413  460\n",
       "               1    0    0"
      ]
     },
     "metadata": {},
     "output_type": "display_data"
    }
   ],
   "source": [
    "# Predicting and printing values\n",
    "predicted.values <- predict(model, test[1:13])\n",
    "\n",
    "table(predicted.values, test$not.fully.paid)"
   ]
  },
  {
   "cell_type": "markdown",
   "metadata": {},
   "source": [
    "### A best practice is to \"tune\" the model where R will test out different cost and gamma values\n",
    "### THIS TAKES A WHILE"
   ]
  },
  {
   "cell_type": "code",
   "execution_count": 141,
   "metadata": {},
   "outputs": [
    {
     "data": {
      "text/plain": [
       "\n",
       "Parameter tuning of 'svm':\n",
       "\n",
       "- sampling method: 10-fold cross validation \n",
       "\n",
       "- best parameters:\n",
       " cost gamma\n",
       "    1   0.1\n",
       "\n",
       "- best performance: 0.1600305 \n",
       "\n",
       "- Detailed performance results:\n",
       "  cost gamma     error dispersion\n",
       "1    1   0.1 0.1600305 0.01381824\n",
       "2   10   0.1 0.1709175 0.01488162\n",
       "3    1   1.0 0.1607759 0.01421531\n",
       "4   10   1.0 0.1785250 0.01462696\n"
      ]
     },
     "metadata": {},
     "output_type": "display_data"
    }
   ],
   "source": [
    "tune.results <- tune(svm,train.x=not.fully.paid~., data=train,kernel='radial',\n",
    "                  ranges=list(cost=c(1,10), gamma=c(0.1,1)))\n",
    "\n",
    "summary(tune.results)"
   ]
  },
  {
   "cell_type": "code",
   "execution_count": 142,
   "metadata": {},
   "outputs": [
    {
     "data": {
      "text/plain": [
       "                \n",
       "predicted.values    0    1\n",
       "               0 2350  425\n",
       "               1   63   35"
      ]
     },
     "metadata": {},
     "output_type": "display_data"
    }
   ],
   "source": [
    "model <- svm(not.fully.paid ~ .,data=train,cost=10,gamma = 0.1)\n",
    "predicted.values <- predict(model,test[1:13])\n",
    "table(predicted.values,test$not.fully.paid)"
   ]
  },
  {
   "cell_type": "markdown",
   "metadata": {},
   "source": [
    "## K Means Clustering"
   ]
  },
  {
   "cell_type": "code",
   "execution_count": 143,
   "metadata": {},
   "outputs": [],
   "source": [
    "# Reading in the DFs\n",
    "df1 <- read.csv('data//winequality-red.csv', sep =';')\n",
    "df2 <- read.csv('data//winequality-white.csv', sep =';')\n",
    "\n",
    "# Adding red and white labels\n",
    "df1$label = 'red'\n",
    "df2$label = 'white'\n",
    "\n",
    "# Combining into a single DF\n",
    "wine <- rbind(df1,df2)"
   ]
  },
  {
   "cell_type": "code",
   "execution_count": 144,
   "metadata": {},
   "outputs": [],
   "source": [
    "# Getting the non labeled wine\n",
    "clus.data <- wine[,1:12]"
   ]
  },
  {
   "cell_type": "code",
   "execution_count": 145,
   "metadata": {},
   "outputs": [
    {
     "name": "stdout",
     "output_type": "stream",
     "text": [
      "  fixed.acidity volatile.acidity citric.acid residual.sugar chlorides\n",
      "1      6.904698        0.2871364   0.3398094       7.259286 0.0486092\n",
      "2      7.619044        0.4079451   0.2911080       3.082690 0.0656846\n",
      "  free.sulfur.dioxide total.sulfur.dioxide   density       pH sulphates\n",
      "1            39.82503            155.90101 0.9947956 3.190308 0.5000354\n",
      "2            18.43735             63.54832 0.9945680 3.255147 0.5718655\n",
      "   alcohol  quality\n",
      "1 10.25832 5.825436\n",
      "2 10.79529 5.809204\n"
     ]
    }
   ],
   "source": [
    "# Clustering the wine\n",
    "wine.cluster <- kmeans(wine[1:12],2)\n",
    "\n",
    "# Printing\n",
    "print(wine.cluster$centers)"
   ]
  },
  {
   "cell_type": "code",
   "execution_count": 149,
   "metadata": {},
   "outputs": [
    {
     "data": {
      "text/plain": [
       "       \n",
       "           1    2\n",
       "  red     84 1515\n",
       "  white 3588 1310"
      ]
     },
     "metadata": {},
     "output_type": "display_data"
    }
   ],
   "source": [
    "table(wine$label, wine.cluster$cluster)"
   ]
  },
  {
   "cell_type": "markdown",
   "metadata": {},
   "source": [
    "## Neural Nets"
   ]
  },
  {
   "cell_type": "code",
   "execution_count": 153,
   "metadata": {},
   "outputs": [
    {
     "data": {
      "text/html": [
       "<table>\n",
       "<caption>A data.frame: 3 × 5</caption>\n",
       "<thead>\n",
       "\t<tr><th></th><th scope=col>Image.Var</th><th scope=col>Image.Skew</th><th scope=col>Image.Curt</th><th scope=col>Entropy</th><th scope=col>Class</th></tr>\n",
       "\t<tr><th></th><th scope=col>&lt;dbl&gt;</th><th scope=col>&lt;dbl&gt;</th><th scope=col>&lt;dbl&gt;</th><th scope=col>&lt;dbl&gt;</th><th scope=col>&lt;int&gt;</th></tr>\n",
       "</thead>\n",
       "<tbody>\n",
       "\t<tr><th scope=row>1</th><td>3.6216</td><td> 8.6661</td><td>-2.8073</td><td>-0.44699</td><td>0</td></tr>\n",
       "\t<tr><th scope=row>2</th><td>4.5459</td><td> 8.1674</td><td>-2.4586</td><td>-1.46210</td><td>0</td></tr>\n",
       "\t<tr><th scope=row>3</th><td>3.8660</td><td>-2.6383</td><td> 1.9242</td><td> 0.10645</td><td>0</td></tr>\n",
       "</tbody>\n",
       "</table>\n"
      ],
      "text/latex": [
       "A data.frame: 3 × 5\n",
       "\\begin{tabular}{r|lllll}\n",
       "  & Image.Var & Image.Skew & Image.Curt & Entropy & Class\\\\\n",
       "  & <dbl> & <dbl> & <dbl> & <dbl> & <int>\\\\\n",
       "\\hline\n",
       "\t1 & 3.6216 &  8.6661 & -2.8073 & -0.44699 & 0\\\\\n",
       "\t2 & 4.5459 &  8.1674 & -2.4586 & -1.46210 & 0\\\\\n",
       "\t3 & 3.8660 & -2.6383 &  1.9242 &  0.10645 & 0\\\\\n",
       "\\end{tabular}\n"
      ],
      "text/markdown": [
       "\n",
       "A data.frame: 3 × 5\n",
       "\n",
       "| <!--/--> | Image.Var &lt;dbl&gt; | Image.Skew &lt;dbl&gt; | Image.Curt &lt;dbl&gt; | Entropy &lt;dbl&gt; | Class &lt;int&gt; |\n",
       "|---|---|---|---|---|---|\n",
       "| 1 | 3.6216 |  8.6661 | -2.8073 | -0.44699 | 0 |\n",
       "| 2 | 4.5459 |  8.1674 | -2.4586 | -1.46210 | 0 |\n",
       "| 3 | 3.8660 | -2.6383 |  1.9242 |  0.10645 | 0 |\n",
       "\n"
      ],
      "text/plain": [
       "  Image.Var Image.Skew Image.Curt Entropy  Class\n",
       "1 3.6216     8.6661    -2.8073    -0.44699 0    \n",
       "2 4.5459     8.1674    -2.4586    -1.46210 0    \n",
       "3 3.8660    -2.6383     1.9242     0.10645 0    "
      ]
     },
     "metadata": {},
     "output_type": "display_data"
    }
   ],
   "source": [
    "# Reading in the Dataframe\n",
    "bank <- read.csv('data//bank_note_data.csv')\n",
    "\n",
    "# Predicting class\n",
    "head(bank, 3)"
   ]
  },
  {
   "cell_type": "code",
   "execution_count": 154,
   "metadata": {},
   "outputs": [],
   "source": [
    "# Train Test split\n",
    "split = sample.split(bank$Class, SplitRatio = 0.70)\n",
    "\n",
    "train = subset(bank, split == TRUE)\n",
    "test = subset(bank, split == FALSE)"
   ]
  },
  {
   "cell_type": "code",
   "execution_count": 155,
   "metadata": {},
   "outputs": [
    {
     "name": "stderr",
     "output_type": "stream",
     "text": [
      "Warning message:\n",
      "\"package 'neuralnet' was built under R version 3.6.3\"\n",
      "\n",
      "Attaching package: 'neuralnet'\n",
      "\n",
      "\n",
      "The following object is masked from 'package:dplyr':\n",
      "\n",
      "    compute\n",
      "\n",
      "\n"
     ]
    }
   ],
   "source": [
    "# Calling the library\n",
    "library(neuralnet)\n",
    "\n",
    "# Building the model\n",
    "model <- neuralnet(Class ~ ., data = train, hidden = 10, linear.output = FALSE)"
   ]
  },
  {
   "cell_type": "code",
   "execution_count": 158,
   "metadata": {},
   "outputs": [],
   "source": [
    "# Getting the predicted values and applying them to predictions\n",
    "predicted.values <- compute(model, test[1:4])\n",
    "predictions <- sapply(predicted.values$net.result,round)"
   ]
  },
  {
   "cell_type": "code",
   "execution_count": 159,
   "metadata": {},
   "outputs": [
    {
     "data": {
      "text/plain": [
       "           \n",
       "predictions   0   1\n",
       "          0 229   0\n",
       "          1   0 183"
      ]
     },
     "metadata": {},
     "output_type": "display_data"
    }
   ],
   "source": [
    "# Printing the confusion matrix\n",
    "table(predictions, test$Class)"
   ]
  },
  {
   "cell_type": "code",
   "execution_count": 160,
   "metadata": {},
   "outputs": [
    {
     "data": {
      "image/png": "[encoded data removed]",
      "text/plain": [
       "plot without title"
      ]
     },
     "metadata": {
      "image/png": {
       "height": 420,
       "width": 420
      },
      "text/plain": {
       "height": 420,
       "width": 420
      }
     },
     "output_type": "display_data"
    }
   ],
   "source": [
    "# A cool plot of the neural net\n",
    "plot(model,rep='best')"
   ]
  }
 ],
 "metadata": {
  "kernelspec": {
   "display_name": "R",
   "language": "R",
   "name": "ir"
  },
  "language_info": {
   "codemirror_mode": "r",
   "file_extension": ".r",
   "mimetype": "text/x-r-source",
   "name": "R",
   "pygments_lexer": "r",
   "version": "3.6.1"
  }
 },
 "nbformat": 4,
 "nbformat_minor": 4
}
